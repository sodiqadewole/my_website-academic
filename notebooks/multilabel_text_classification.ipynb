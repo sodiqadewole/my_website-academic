{
 "cells": [
  {
   "cell_type": "markdown",
   "metadata": {},
   "source": [
    "Example tutorial on a multilabel text classification to predict the subject areas of arXiv papers from abstract bodies."
   ]
  },
  {
   "cell_type": "code",
   "execution_count": 4,
   "metadata": {},
   "outputs": [],
   "source": [
    "from tensorflow.keras import layers\n",
    "from tensorflow import keras\n",
    "import tensorflow as tf\n",
    "\n",
    "from sklearn.model_selection import train_test_split\n",
    "from ast import literal_eval\n",
    "\n",
    "import matplotlib.pyplot as plt\n",
    "import pandas as pd\n",
    "import numpy as np"
   ]
  },
  {
   "cell_type": "markdown",
   "metadata": {},
   "source": [
    "Load Dataset"
   ]
  },
  {
   "cell_type": "code",
   "execution_count": 9,
   "metadata": {},
   "outputs": [
    {
     "name": "stdout",
     "output_type": "stream",
     "text": [
      "Number of rows in dataset: 51774\n"
     ]
    },
    {
     "data": {
      "text/html": [
       "<div>\n",
       "<style scoped>\n",
       "    .dataframe tbody tr th:only-of-type {\n",
       "        vertical-align: middle;\n",
       "    }\n",
       "\n",
       "    .dataframe tbody tr th {\n",
       "        vertical-align: top;\n",
       "    }\n",
       "\n",
       "    .dataframe thead th {\n",
       "        text-align: right;\n",
       "    }\n",
       "</style>\n",
       "<table border=\"1\" class=\"dataframe\">\n",
       "  <thead>\n",
       "    <tr style=\"text-align: right;\">\n",
       "      <th></th>\n",
       "      <th>titles</th>\n",
       "      <th>summaries</th>\n",
       "      <th>terms</th>\n",
       "    </tr>\n",
       "  </thead>\n",
       "  <tbody>\n",
       "    <tr>\n",
       "      <th>0</th>\n",
       "      <td>Survey on Semantic Stereo Matching / Semantic ...</td>\n",
       "      <td>Stereo matching is one of the widely used tech...</td>\n",
       "      <td>['cs.CV', 'cs.LG']</td>\n",
       "    </tr>\n",
       "    <tr>\n",
       "      <th>1</th>\n",
       "      <td>FUTURE-AI: Guiding Principles and Consensus Re...</td>\n",
       "      <td>The recent advancements in artificial intellig...</td>\n",
       "      <td>['cs.CV', 'cs.AI', 'cs.LG']</td>\n",
       "    </tr>\n",
       "    <tr>\n",
       "      <th>2</th>\n",
       "      <td>Enforcing Mutual Consistency of Hard Regions f...</td>\n",
       "      <td>In this paper, we proposed a novel mutual cons...</td>\n",
       "      <td>['cs.CV', 'cs.AI']</td>\n",
       "    </tr>\n",
       "    <tr>\n",
       "      <th>3</th>\n",
       "      <td>Parameter Decoupling Strategy for Semi-supervi...</td>\n",
       "      <td>Consistency training has proven to be an advan...</td>\n",
       "      <td>['cs.CV']</td>\n",
       "    </tr>\n",
       "    <tr>\n",
       "      <th>4</th>\n",
       "      <td>Background-Foreground Segmentation for Interio...</td>\n",
       "      <td>To ensure safety in automated driving, the cor...</td>\n",
       "      <td>['cs.CV', 'cs.LG']</td>\n",
       "    </tr>\n",
       "  </tbody>\n",
       "</table>\n",
       "</div>"
      ],
      "text/plain": [
       "                                              titles  \\\n",
       "0  Survey on Semantic Stereo Matching / Semantic ...   \n",
       "1  FUTURE-AI: Guiding Principles and Consensus Re...   \n",
       "2  Enforcing Mutual Consistency of Hard Regions f...   \n",
       "3  Parameter Decoupling Strategy for Semi-supervi...   \n",
       "4  Background-Foreground Segmentation for Interio...   \n",
       "\n",
       "                                           summaries  \\\n",
       "0  Stereo matching is one of the widely used tech...   \n",
       "1  The recent advancements in artificial intellig...   \n",
       "2  In this paper, we proposed a novel mutual cons...   \n",
       "3  Consistency training has proven to be an advan...   \n",
       "4  To ensure safety in automated driving, the cor...   \n",
       "\n",
       "                         terms  \n",
       "0           ['cs.CV', 'cs.LG']  \n",
       "1  ['cs.CV', 'cs.AI', 'cs.LG']  \n",
       "2           ['cs.CV', 'cs.AI']  \n",
       "3                    ['cs.CV']  \n",
       "4           ['cs.CV', 'cs.LG']  "
      ]
     },
     "execution_count": 9,
     "metadata": {},
     "output_type": "execute_result"
    }
   ],
   "source": [
    "arxiv_data = pd.read_csv(\n",
    "    \"https://github.com/soumik12345/multi-label-text-classification/releases/download/v0.2/arxiv_data.csv\"\n",
    ")\n",
    "print(f\"Number of rows in dataset: {len(arxiv_data)}\")\n",
    "arxiv_data.head()"
   ]
  },
  {
   "cell_type": "code",
   "execution_count": 14,
   "metadata": {},
   "outputs": [
    {
     "name": "stdout",
     "output_type": "stream",
     "text": [
      "Number of rows in dataset before removing duplicates: 38972\n",
      "Number of rows in dataset after removing duplicates: 38972\n",
      "2321\n",
      "3157\n"
     ]
    },
    {
     "data": {
      "text/plain": [
       "(36651, 3)"
      ]
     },
     "execution_count": 14,
     "metadata": {},
     "output_type": "execute_result"
    }
   ],
   "source": [
    "# Remove row duplicates\n",
    "print(f\"Number of rows in dataset before removing duplicates: {len(arxiv_data)}\")\n",
    "arxiv_data = arxiv_data[~arxiv_data.titles.duplicated()]\n",
    "print(f\"Number of rows in dataset after removing duplicates: {len(arxiv_data)}\")\n",
    "\n",
    "# Get number of terms with lowest occurence\n",
    "print(sum(arxiv_data.terms.value_counts() == 1))\n",
    "# Get the number of unique terms\n",
    "print(len(arxiv_data.terms.unique()))\n",
    "\n",
    "# Filter the rare terms\n",
    "arxiv_data_filtered = arxiv_data.groupby(\"terms\").filter(lambda x: len(x) > 1)\n",
    "arxiv_data_filtered.shape"
   ]
  },
  {
   "cell_type": "code",
   "execution_count": 15,
   "metadata": {},
   "outputs": [
    {
     "data": {
      "text/plain": [
       "array([list(['cs.CV', 'cs.LG']), list(['cs.CV', 'cs.AI', 'cs.LG']),\n",
       "       list(['cs.CV', 'cs.AI']), list(['cs.CV']),\n",
       "       list(['cs.CV', 'cs.LG'])], dtype=object)"
      ]
     },
     "execution_count": 15,
     "metadata": {},
     "output_type": "execute_result"
    }
   ],
   "source": [
    "# Convert the string labels to list of strings\n",
    "arxiv_data_filtered[\"terms\"] = arxiv_data_filtered[\"terms\"].apply(\n",
    "    lambda x: literal_eval(x)\n",
    ")\n",
    "arxiv_data_filtered[\"terms\"].values[:5]"
   ]
  },
  {
   "cell_type": "code",
   "execution_count": 20,
   "metadata": {},
   "outputs": [
    {
     "name": "stdout",
     "output_type": "stream",
     "text": [
      "Number of rows in training set: 32985\n",
      "Number of rows in validation set: 1833\n",
      "Number of rows in test set: 1833\n"
     ]
    }
   ],
   "source": [
    "# Use stratified splits to help with class imbalance\n",
    "test_split = 0.1\n",
    "\n",
    "# train test split\n",
    "train_df, test_df = train_test_split(arxiv_data_filtered,\n",
    "                                     test_size=test_split,\n",
    "                                     stratify=arxiv_data_filtered[\"terms\"].values,)\n",
    "\n",
    "# Split the test into validation and new test sets\n",
    "val_df = test_df.sample(frac=0.5)\n",
    "test_df.drop(val_df.index, inplace=True)\n",
    "\n",
    "print(f\"Number of rows in training set: {len(train_df)}\")\n",
    "print(f\"Number of rows in validation set: {len(val_df)}\")\n",
    "print(f\"Number of rows in test set: {len(test_df)}\")"
   ]
  },
  {
   "cell_type": "code",
   "execution_count": 23,
   "metadata": {},
   "outputs": [
    {
     "name": "stdout",
     "output_type": "stream",
     "text": [
      "Vocabulary: \n",
      "\n",
      "['[UNK]', 'cs.CV', 'cs.LG', 'stat.ML', 'cs.AI', 'eess.IV', 'cs.RO', 'cs.CL', 'cs.NE', 'cs.CR', 'math.OC', 'eess.SP', 'cs.GR', 'cs.SI', 'cs.MM', 'cs.SY', 'cs.IR', 'cs.MA', 'eess.SY', 'cs.HC', 'math.IT', 'cs.IT', 'cs.DC', 'cs.CY', 'stat.AP', 'stat.TH', 'math.ST', 'stat.ME', 'eess.AS', 'cs.SD', 'q-bio.QM', 'q-bio.NC', 'cs.DS', 'cs.GT', 'cs.CG', 'cs.SE', 'cs.NI', 'stat.CO', 'I.2.6', 'math.NA', 'cs.NA', 'physics.chem-ph', 'cs.DB', 'q-bio.BM', 'cs.LO', 'cond-mat.dis-nn', '68T45', 'math.PR', 'cs.PL', 'physics.comp-ph', 'cs.CE', 'cs.AR', 'I.2.10', 'q-fin.ST', 'cond-mat.stat-mech', 'math.DS', '68T05', 'quant-ph', 'cs.CC', 'I.4.6', 'physics.data-an', 'physics.soc-ph', 'physics.ao-ph', 'cs.DM', 'q-bio.GN', 'econ.EM', 'physics.med-ph', 'cs.PF', 'astro-ph.IM', 'I.4.8', 'math.AT', 'cs.FL', 'I.4', 'q-fin.TR', 'I.5.4', 'I.2', '68U10', 'physics.geo-ph', 'hep-ex', '68T10', 'physics.optics', 'cond-mat.mtrl-sci', 'q-fin.CP', 'physics.flu-dyn', 'math.CO', 'math.AP', 'I.4; I.5', 'I.4.9', 'I.2.6; I.2.8', 'I.2.10; I.4; I.5', '68T01', '65D19', 'nlin.CD', 'cs.MS', 'I.2.6; I.5.1', 'I.2.0; I.2.6', '68T07', 'q-fin.GN', 'cs.SC', 'cs.ET', 'K.3.2', 'I.2.8', 'I.2.10; I.4.8', '68U01', '68T30', '68', 'q-fin.EC', 'q-bio.MN', 'econ.GN', 'I.4.9; I.5.4', 'I.4.5', 'I.2; I.5', 'I.2; I.4; I.5', 'I.2.6; I.2.7', '68T99', '68Q32', '62H30', 'q-fin.RM', 'q-fin.PM', 'q-bio.TO', 'q-bio.OT', 'physics.bio-ph', 'nlin.AO', 'math.LO', 'math.FA', 'hep-ph', 'cond-mat.soft', 'I.4.6; I.4.8', 'I.4.4', 'I.4.3', 'I.4.0', 'I.2; J.2', 'I.2; I.2.6; I.2.7', 'I.2.7', 'I.2.6; I.5.4', 'I.2.6; I.2.9', 'I.2.6; I.2.7; H.3.1; H.3.3', 'I.2.6; I.2.10', 'I.2.6, I.5.4', 'I.2.1; J.3', 'I.2.10; I.5.1; I.4.8', 'I.2.10; I.4.8; I.5.4', 'I.2.10; I.2.6', 'I.2.1', 'H.3.1; I.2.6; I.2.7', 'H.3.1; H.3.3; I.2.6; I.2.7', 'G.3', 'F.2.2; I.2.7', 'E.5; E.4; E.2; H.1.1; F.1.1; F.1.3', '68Txx', '62H99', '62H35', '14J60 (Primary) 14F05, 14J26 (Secondary)']\n"
     ]
    }
   ],
   "source": [
    "# Multi-label binarization\n",
    "terms= tf.ragged.constant(train_df[\"terms\"].values)\n",
    "lookup = tf.keras.layers.StringLookup(output_mode=\"multi_hot\")\n",
    "lookup.adapt(terms)\n",
    "vocab = lookup.get_vocabulary()\n",
    "\n",
    "def invert_multi_hot(encoded_labels):\n",
    "    \"\"\"Reverse a single multi-hot encoded label to a tuple of vocab terms.\"\"\"\n",
    "    hot_indices = np.argwhere(encoded_labels == 1.0)[..., 0]\n",
    "    return np.take(vocab, hot_indices)\n",
    "\n",
    "print(\"Vocabulary: \\n\")\n",
    "print(vocab)"
   ]
  },
  {
   "cell_type": "code",
   "execution_count": 31,
   "metadata": {},
   "outputs": [
    {
     "name": "stdout",
     "output_type": "stream",
     "text": [
      "Original label: ['cs.LG', 'cs.CV']\n",
      "Label-binarized representation: [[0 1 1 0 0 0 0 0 0 0 0 0 0 0 0 0 0 0 0 0 0 0 0 0 0 0 0 0 0 0 0 0 0 0 0 0\n",
      "  0 0 0 0 0 0 0 0 0 0 0 0 0 0 0 0 0 0 0 0 0 0 0 0 0 0 0 0 0 0 0 0 0 0 0 0\n",
      "  0 0 0 0 0 0 0 0 0 0 0 0 0 0 0 0 0 0 0 0 0 0 0 0 0 0 0 0 0 0 0 0 0 0 0 0\n",
      "  0 0 0 0 0 0 0 0 0 0 0 0 0 0 0 0 0 0 0 0 0 0 0 0 0 0 0 0 0 0 0 0 0 0 0 0\n",
      "  0 0 0 0 0 0 0 0 0]]\n",
      "Label dimension: (1, 153)\n"
     ]
    }
   ],
   "source": [
    "sample_label = train_df[\"terms\"].iloc[50]\n",
    "print(f\"Original label: {sample_label}\")\n",
    "\n",
    "label_binarized = lookup([sample_label])\n",
    "print(f\"Label-binarized representation: {label_binarized}\")\n",
    "print(f\"Label dimension: {label_binarized.shape}\")"
   ]
  },
  {
   "cell_type": "markdown",
   "metadata": {},
   "source": [
    "Data Preprocessing"
   ]
  },
  {
   "cell_type": "code",
   "execution_count": 33,
   "metadata": {},
   "outputs": [
    {
     "data": {
      "text/plain": [
       "count    32985.000000\n",
       "mean       156.480703\n",
       "std         41.476307\n",
       "min          5.000000\n",
       "25%        128.000000\n",
       "50%        154.000000\n",
       "75%        183.000000\n",
       "max        462.000000\n",
       "Name: summaries, dtype: float64"
      ]
     },
     "execution_count": 33,
     "metadata": {},
     "output_type": "execute_result"
    }
   ],
   "source": [
    "# Get data statistics\n",
    "train_df.summaries.apply(lambda x: len(x.split(\" \"))).describe()"
   ]
  },
  {
   "cell_type": "code",
   "execution_count": 37,
   "metadata": {},
   "outputs": [
    {
     "name": "stdout",
     "output_type": "stream",
     "text": [
      "Number of batches in train set: 258\n",
      "Number of batches in validation set: 15\n",
      "Number of batches in test set: 15\n"
     ]
    }
   ],
   "source": [
    "# Set model parameters\n",
    "max_seqlen = 150\n",
    "batch_size = 128\n",
    "padding_token = \"<pad>\"\n",
    "auto = tf.data.AUTOTUNE\n",
    "\n",
    "\n",
    "def prepare_dataset(df, is_train=False):\n",
    "    labels = tf.ragged.constant(df[\"terms\"].values)\n",
    "    label_binarized = lookup(labels).numpy()\n",
    "    dataset = tf.data.Dataset.from_tensor_slices(\n",
    "        (df[\"summaries\"].values, label_binarized)\n",
    "    )\n",
    "    dataset = dataset.shuffle(batch_size*10) if is_train else dataset\n",
    "    return dataset.batch(batch_size)\n",
    "\n",
    "train_dataset = prepare_dataset(train_df, is_train=True)\n",
    "validation_dataset = prepare_dataset(val_df)\n",
    "test_dataset = prepare_dataset(test_df)\n",
    "\n",
    "print(f\"Number of batches in train set: {len(train_dataset)}\")\n",
    "print(f\"Number of batches in validation set: {len(validation_dataset)}\")\n",
    "print(f\"Number of batches in test set: {len(test_dataset)}\")"
   ]
  },
  {
   "cell_type": "code",
   "execution_count": 41,
   "metadata": {},
   "outputs": [
    {
     "name": "stdout",
     "output_type": "stream",
     "text": [
      "Abstract: b'Neural autoregressive sequence models are used to generate sequences in a\\nvariety of natural language processing (NLP) tasks, where they are evaluated\\naccording to sequence-level task losses. These models are typically trained\\nwith maximum likelihood estimation, which ignores the task loss, yet\\nempirically performs well as a surrogate objective. Typical approaches to\\ndirectly optimizing the task loss such as policy gradient and minimum risk\\ntraining are based around sampling in the sequence space to obtain candidate\\nupdate directions that are scored based on the loss of a single sequence. In\\nthis paper, we develop an alternative method based on random search in the\\nparameter space that leverages access to the maximum likelihood gradient. We\\npropose maximum likelihood guided parameter search (MGS), which samples from a\\ndistribution over update directions that is a mixture of random search around\\nthe current parameters and around the maximum likelihood gradient, with each\\ndirection weighted by its improvement in the task loss. MGS shifts sampling to\\nthe parameter space, and scores candidates using losses that are pooled from\\nmultiple sequences. Our experiments show that MGS is capable of optimizing\\nsequence-level losses, with substantial reductions in repetition and\\nnon-termination in sequence completion, and similar improvements to those of\\nminimum risk training in machine translation.'\n",
      "Label: ['cs.LG' 'stat.ML']\n",
      " \n",
      "Abstract: b'Time-series classification is an important domain of machine learning and a\\nplethora of methods have been developed for the task. In comparison to existing\\napproaches, this study presents a novel method which decomposes a time-series\\ndataset into latent patterns and membership weights of local segments to those\\npatterns. The process is formalized as a constrained objective function and a\\ntailored stochastic coordinate descent optimization is applied. The time-series\\nare projected to a new feature representation consisting of the sums of the\\nmembership weights, which captures frequencies of local patterns. Features from\\nvarious sliding window sizes are concatenated in order to encapsulate the\\ninteraction of patterns from different sizes. Finally, a large-scale\\nexperimental comparison against 6 state of the art baselines and 43 real life\\ndatasets is conducted. The proposed method outperforms all the baselines with\\nstatistically significant margins in terms of prediction accuracy.'\n",
      "Label: ['cs.LG']\n",
      " \n",
      "Abstract: b'3D multi object generative models allow us to synthesize a large range of\\nnovel 3D multi object scenes and also identify objects, shapes, layouts and\\ntheir positions. But multi object scenes are difficult to create because of the\\ndataset being multimodal in nature. The conventional 3D generative adversarial\\nmodels are not efficient in generating multi object scenes, they usually tend\\nto generate either one object or generate fuzzy results of multiple objects.\\nAuto-encoder models have much scope in feature extraction and representation\\nlearning using the unsupervised paradigm in probabilistic spaces. We try to\\nmake use of this property in our proposed model. In this paper we propose a\\nnovel architecture using 3DConvNets trained with the progressive training\\nparadigm that has been able to generate realistic high resolution 3D scenes of\\nrooms, bedrooms, offices etc. with various pieces of furniture and objects. We\\nmake use of the adversarial auto-encoder along with the WGAN-GP loss parameter\\nin our discriminator loss function. Finally this new approach to multi object\\nscene generation has also been able to generate more number of objects per\\nscene.'\n",
      "Label: ['cs.CV']\n",
      " \n"
     ]
    }
   ],
   "source": [
    "# Preview sample dataset\n",
    "text_batch, label_batch = next(iter(train_dataset))\n",
    "for i, text in enumerate(text_batch[:3]):\n",
    "    label = label_batch[i].numpy()[None, ...]\n",
    "    print(f\"Abstract: {text}\")\n",
    "    print(F\"Label: {invert_multi_hot(label[0])}\")\n",
    "    print(\" \")"
   ]
  },
  {
   "cell_type": "code",
   "execution_count": 45,
   "metadata": {},
   "outputs": [
    {
     "name": "stdout",
     "output_type": "stream",
     "text": [
      "Vocabulary size: 153031\n"
     ]
    }
   ],
   "source": [
    "# Vectorization layer\n",
    "vocabulary = set()\n",
    "train_df[\"summaries\"].str.lower().str.split().apply(vocabulary.update)\n",
    "vocabulary_size = len(vocabulary)\n",
    "print(f\"Vocabulary size: {vocabulary_size}\")\n",
    "\n",
    "text_vectorizer = layers.TextVectorization(\n",
    "    max_tokens=vocabulary_size, ngrams=2, output_mode=\"tf_idf\"\n",
    ")\n",
    "\n",
    "with tf.device(\"/CPU:0\"):\n",
    "    text_vectorizer.adapt(train_dataset.map(lambda text, label: text))\n",
    "\n",
    "train_dataset = train_dataset.map(\n",
    "    lambda text, label: (text_vectorizer(text), label), num_parallel_calls=auto\n",
    ").prefetch(auto)\n",
    "\n",
    "validation_dataset = validation_dataset.map(\n",
    "    lambda text, label: (text_vectorizer(text), label), num_parallel_calls=auto\n",
    ").prefetch(auto)\n",
    "\n",
    "test_dataset = test_dataset.map(\n",
    "    lambda text, label: (text_vectorizer(text), label), num_parallel_calls=auto\n",
    ").prefetch(auto)"
   ]
  },
  {
   "cell_type": "markdown",
   "metadata": {},
   "source": [
    "Build and Train Model"
   ]
  },
  {
   "cell_type": "code",
   "execution_count": 46,
   "metadata": {},
   "outputs": [
    {
     "name": "stdout",
     "output_type": "stream",
     "text": [
      "Epoch 1/20\n",
      "\u001b[1m258/258\u001b[0m \u001b[32m━━━━━━━━━━━━━━━━━━━━\u001b[0m\u001b[37m\u001b[0m \u001b[1m162s\u001b[0m 617ms/step - binary_accuracy: 0.9718 - loss: 0.0694 - val_binary_accuracy: 0.9938 - val_loss: 0.0195\n",
      "Epoch 2/20\n",
      "\u001b[1m258/258\u001b[0m \u001b[32m━━━━━━━━━━━━━━━━━━━━\u001b[0m\u001b[37m\u001b[0m \u001b[1m162s\u001b[0m 627ms/step - binary_accuracy: 0.9985 - loss: 0.0051 - val_binary_accuracy: 0.9938 - val_loss: 0.0270\n",
      "Epoch 3/20\n",
      "\u001b[1m258/258\u001b[0m \u001b[32m━━━━━━━━━━━━━━━━━━━━\u001b[0m\u001b[37m\u001b[0m \u001b[1m162s\u001b[0m 627ms/step - binary_accuracy: 0.9998 - loss: 0.0011 - val_binary_accuracy: 0.9936 - val_loss: 0.0340\n",
      "Epoch 4/20\n",
      "\u001b[1m258/258\u001b[0m \u001b[32m━━━━━━━━━━━━━━━━━━━━\u001b[0m\u001b[37m\u001b[0m \u001b[1m162s\u001b[0m 628ms/step - binary_accuracy: 0.9999 - loss: 4.4254e-04 - val_binary_accuracy: 0.9937 - val_loss: 0.0395\n",
      "Epoch 5/20\n",
      "\u001b[1m258/258\u001b[0m \u001b[32m━━━━━━━━━━━━━━━━━━━━\u001b[0m\u001b[37m\u001b[0m \u001b[1m163s\u001b[0m 629ms/step - binary_accuracy: 1.0000 - loss: 2.5287e-04 - val_binary_accuracy: 0.9937 - val_loss: 0.0427\n",
      "Epoch 6/20\n",
      "\u001b[1m258/258\u001b[0m \u001b[32m━━━━━━━━━━━━━━━━━━━━\u001b[0m\u001b[37m\u001b[0m \u001b[1m163s\u001b[0m 629ms/step - binary_accuracy: 1.0000 - loss: 1.5215e-04 - val_binary_accuracy: 0.9938 - val_loss: 0.0453\n",
      "Epoch 7/20\n",
      "\u001b[1m258/258\u001b[0m \u001b[32m━━━━━━━━━━━━━━━━━━━━\u001b[0m\u001b[37m\u001b[0m \u001b[1m158s\u001b[0m 610ms/step - binary_accuracy: 1.0000 - loss: 1.2636e-04 - val_binary_accuracy: 0.9939 - val_loss: 0.0490\n",
      "Epoch 8/20\n",
      "\u001b[1m258/258\u001b[0m \u001b[32m━━━━━━━━━━━━━━━━━━━━\u001b[0m\u001b[37m\u001b[0m \u001b[1m145s\u001b[0m 560ms/step - binary_accuracy: 1.0000 - loss: 1.4877e-04 - val_binary_accuracy: 0.9938 - val_loss: 0.0479\n",
      "Epoch 9/20\n",
      "\u001b[1m258/258\u001b[0m \u001b[32m━━━━━━━━━━━━━━━━━━━━\u001b[0m\u001b[37m\u001b[0m \u001b[1m144s\u001b[0m 556ms/step - binary_accuracy: 0.9999 - loss: 2.2399e-04 - val_binary_accuracy: 0.9937 - val_loss: 0.0458\n",
      "Epoch 10/20\n",
      "\u001b[1m258/258\u001b[0m \u001b[32m━━━━━━━━━━━━━━━━━━━━\u001b[0m\u001b[37m\u001b[0m \u001b[1m144s\u001b[0m 557ms/step - binary_accuracy: 0.9999 - loss: 3.1472e-04 - val_binary_accuracy: 0.9935 - val_loss: 0.0499\n",
      "Epoch 11/20\n",
      "\u001b[1m258/258\u001b[0m \u001b[32m━━━━━━━━━━━━━━━━━━━━\u001b[0m\u001b[37m\u001b[0m \u001b[1m150s\u001b[0m 579ms/step - binary_accuracy: 0.9999 - loss: 4.6704e-04 - val_binary_accuracy: 0.9933 - val_loss: 0.0448\n",
      "Epoch 12/20\n",
      "\u001b[1m258/258\u001b[0m \u001b[32m━━━━━━━━━━━━━━━━━━━━\u001b[0m\u001b[37m\u001b[0m \u001b[1m154s\u001b[0m 595ms/step - binary_accuracy: 0.9997 - loss: 0.0010 - val_binary_accuracy: 0.9935 - val_loss: 0.0466\n",
      "Epoch 13/20\n",
      "\u001b[1m258/258\u001b[0m \u001b[32m━━━━━━━━━━━━━━━━━━━━\u001b[0m\u001b[37m\u001b[0m \u001b[1m148s\u001b[0m 571ms/step - binary_accuracy: 0.9997 - loss: 9.2152e-04 - val_binary_accuracy: 0.9931 - val_loss: 0.0513\n",
      "Epoch 14/20\n",
      "\u001b[1m258/258\u001b[0m \u001b[32m━━━━━━━━━━━━━━━━━━━━\u001b[0m\u001b[37m\u001b[0m \u001b[1m149s\u001b[0m 577ms/step - binary_accuracy: 0.9998 - loss: 6.6835e-04 - val_binary_accuracy: 0.9934 - val_loss: 0.0561\n",
      "Epoch 15/20\n",
      "\u001b[1m258/258\u001b[0m \u001b[32m━━━━━━━━━━━━━━━━━━━━\u001b[0m\u001b[37m\u001b[0m \u001b[1m144s\u001b[0m 558ms/step - binary_accuracy: 0.9999 - loss: 4.4533e-04 - val_binary_accuracy: 0.9934 - val_loss: 0.0627\n",
      "Epoch 16/20\n",
      "\u001b[1m258/258\u001b[0m \u001b[32m━━━━━━━━━━━━━━━━━━━━\u001b[0m\u001b[37m\u001b[0m \u001b[1m144s\u001b[0m 557ms/step - binary_accuracy: 0.9999 - loss: 4.0542e-04 - val_binary_accuracy: 0.9932 - val_loss: 0.0676\n",
      "Epoch 17/20\n",
      "\u001b[1m258/258\u001b[0m \u001b[32m━━━━━━━━━━━━━━━━━━━━\u001b[0m\u001b[37m\u001b[0m \u001b[1m144s\u001b[0m 558ms/step - binary_accuracy: 0.9999 - loss: 2.7908e-04 - val_binary_accuracy: 0.9929 - val_loss: 0.0687\n",
      "Epoch 18/20\n",
      "\u001b[1m258/258\u001b[0m \u001b[32m━━━━━━━━━━━━━━━━━━━━\u001b[0m\u001b[37m\u001b[0m \u001b[1m145s\u001b[0m 559ms/step - binary_accuracy: 0.9999 - loss: 2.3366e-04 - val_binary_accuracy: 0.9932 - val_loss: 0.0701\n",
      "Epoch 19/20\n",
      "\u001b[1m258/258\u001b[0m \u001b[32m━━━━━━━━━━━━━━━━━━━━\u001b[0m\u001b[37m\u001b[0m \u001b[1m145s\u001b[0m 560ms/step - binary_accuracy: 1.0000 - loss: 1.7963e-04 - val_binary_accuracy: 0.9931 - val_loss: 0.0703\n",
      "Epoch 20/20\n",
      "\u001b[1m258/258\u001b[0m \u001b[32m━━━━━━━━━━━━━━━━━━━━\u001b[0m\u001b[37m\u001b[0m \u001b[1m144s\u001b[0m 558ms/step - binary_accuracy: 1.0000 - loss: 2.1085e-04 - val_binary_accuracy: 0.9931 - val_loss: 0.0747\n"
     ]
    },
    {
     "data": {
      "image/png": "[encoded data removed]",
      "text/plain": [
       "<Figure size 640x480 with 1 Axes>"
      ]
     },
     "metadata": {},
     "output_type": "display_data"
    },
    {
     "data": {
      "image/png": "[encoded data removed]",
      "text/plain": [
       "<Figure size 640x480 with 1 Axes>"
      ]
     },
     "metadata": {},
     "output_type": "display_data"
    }
   ],
   "source": [
    "model = keras.Sequential(\n",
    "    [\n",
    "        layers.Dense(512, activation='relu'),\n",
    "        layers.Dense(256, activation='relu'),\n",
    "        layers.Dense(lookup.vocabulary_size(), activation='sigmoid')\n",
    "    ]\n",
    ")\n",
    "\n",
    "epochs=20\n",
    "model.compile(loss=\"binary_crossentropy\", optimizer=\"adam\", metrics=[\"binary_accuracy\"])\n",
    "history = model.fit(train_dataset, validation_data=validation_dataset, epochs=epochs)\n",
    "\n",
    "def plot_result(item):\n",
    "    plt.plot(history.history[item], label=item)\n",
    "    plt.plot(history.history[\"val_\" + item], label=\"val_\" + item)\n",
    "    plt.xlabel(\"Epochs\")\n",
    "    plt.ylabel(item)\n",
    "    plt.title(\"Train and Validation {} Over Epochs\".format(item), fontsize=14)\n",
    "    plt.legend()\n",
    "    plt.grid()\n",
    "    plt.show()\n",
    "\n",
    "\n",
    "plot_result(\"loss\")\n",
    "plot_result(\"binary_accuracy\")"
   ]
  },
  {
   "cell_type": "code",
   "execution_count": 49,
   "metadata": {},
   "outputs": [
    {
     "name": "stdout",
     "output_type": "stream",
     "text": [
      "\u001b[1m15/15\u001b[0m \u001b[32m━━━━━━━━━━━━━━━━━━━━\u001b[0m\u001b[37m\u001b[0m \u001b[1m2s\u001b[0m 85ms/step - binary_accuracy: 0.9932 - loss: 0.0697\n",
      "Categorical accuracy on the test set: 99.33%.\n"
     ]
    }
   ],
   "source": [
    "# Evaluate model\n",
    "_, binary_acc = model.evaluate(test_dataset)\n",
    "print(f\"Categorical accuracy on the test set: {round(binary_acc*100, 2)}%.\")"
   ]
  },
  {
   "cell_type": "code",
   "execution_count": 61,
   "metadata": {},
   "outputs": [
    {
     "name": "stdout",
     "output_type": "stream",
     "text": [
      "\u001b[1m4/4\u001b[0m \u001b[32m━━━━━━━━━━━━━━━━━━━━\u001b[0m\u001b[37m\u001b[0m \u001b[1m0s\u001b[0m 58ms/step\n",
      "Abstract: b'This paper investigates an important problem in stream mining, i.e.,\\nclassification under streaming emerging new classes or SENC. The common\\napproach is to treat it as a classification problem and solve it using either a\\nsupervised learner or a semi-supervised learner. We propose an alternative\\napproach by using unsupervised learning as the basis to solve this problem. The\\nSENC problem can be decomposed into three sub problems: detecting emerging new\\nclasses, classifying for known classes, and updating models to enable\\nclassification of instances of the new class and detection of more emerging new\\nclasses. The proposed method employs completely random trees which have been\\nshown to work well in unsupervised learning and supervised learning\\nindependently in the literature. This is the first time, as far as we know,\\nthat completely random trees are used as a single common core to solve all\\nthree sub problems: unsupervised learning, supervised learning and model update\\nin data streams. We show that the proposed unsupervised-learning-focused method\\noften achieves significantly better outcomes than existing\\nclassification-focused methods.'\n",
      "Labels: ['cs.LG']\n",
      "Predicted Label(s): (cs.LG, stat.ML, cs.AI)\n",
      " \n",
      "Abstract: b'Deep (neural) networks have been applied productively in a wide range of\\nsupervised and unsupervised learning tasks. Unlike classical machine learning\\nalgorithms, deep networks typically operate in the \\\\emph{overparameterized}\\nregime, where the number of parameters is larger than the number of training\\ndata points. Consequently, understanding the generalization properties and the\\nrole of (explicit or implicit) regularization in these networks is of great\\nimportance. In this work, we explore how the oft-used heuristic of \\\\emph{data\\naugmentation} imposes an {\\\\em implicit regularization} penalty of a novel\\nmeasure of the \\\\emph{rugosity} or \"roughness\" based on the tangent Hessian of\\nthe function fit to the training data.'\n",
      "Labels: ['cs.LG' 'stat.ML']\n",
      "Predicted Label(s): (cs.LG, stat.ML, cs.NE)\n",
      " \n"
     ]
    }
   ],
   "source": [
    "# Export model for inference on raw text data\n",
    "model_for_export = keras.Sequential([\n",
    "    text_vectorizer, model\n",
    "])\n",
    "\n",
    "# Create dataset to text\n",
    "inference_dataset = prepare_dataset(test_df.sample(100), is_train=False)\n",
    "text_batch, label_batch = next(iter(inference_dataset))\n",
    "predicted_probabilities = model_for_export.predict(text_batch)\n",
    "\n",
    "# Inference\n",
    "for i, text in enumerate(text_batch[:2]):\n",
    "    label = label_batch[i].numpy()[None, ...]\n",
    "    print(f\"Abstract: {text}\")\n",
    "    print(f\"Labels: {invert_multi_hot(label[0])}\")\n",
    "    predicted_proba = [prob for prob in predicted_probabilities[i]]\n",
    "    top_3_labels = [\n",
    "        x\n",
    "        for _, x in sorted(\n",
    "            zip(predicted_probabilities[i], lookup.get_vocabulary()),\n",
    "            key=lambda pair: pair[0],\n",
    "            reverse = True,\n",
    "        )\n",
    "    ][:3]\n",
    "    print(f\"Predicted Label(s): ({', '.join([label for label in top_3_labels])})\")\n",
    "    print(\" \")"
   ]
  }
 ],
 "metadata": {
  "kernelspec": {
   "display_name": "py310",
   "language": "python",
   "name": "python3"
  },
  "language_info": {
   "codemirror_mode": {
    "name": "ipython",
    "version": 3
   },
   "file_extension": ".py",
   "mimetype": "text/x-python",
   "name": "python",
   "nbconvert_exporter": "python",
   "pygments_lexer": "ipython3",
   "version": "3.10.13"
  }
 },
 "nbformat": 4,
 "nbformat_minor": 2
}
