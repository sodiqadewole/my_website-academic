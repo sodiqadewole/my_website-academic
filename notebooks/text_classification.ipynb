{
 "cells": [
  {
   "cell_type": "markdown",
   "metadata": {},
   "source": [
    "In this tutorial, we demonstrate a text classification model from raw text from scratch based on the IMDB sentiment classification dataset."
   ]
  },
  {
   "cell_type": "code",
   "execution_count": 3,
   "metadata": {},
   "outputs": [],
   "source": [
    "import os\n",
    "os.environ[\"KERAS_BACKEND\"] = \"tensorflow\"\n",
    "\n",
    "import keras\n",
    "import tensorflow as tf\n",
    "import numpy as np\n",
    "from keras import layers"
   ]
  },
  {
   "cell_type": "markdown",
   "metadata": {},
   "source": [
    "##### Load Dataset\n",
    "The dataset folder contains a train and test subfolder"
   ]
  },
  {
   "cell_type": "code",
   "execution_count": 1,
   "metadata": {},
   "outputs": [
    {
     "name": "stderr",
     "output_type": "stream",
     "text": [
      "  % Total    % Received % Xferd  Average Speed   Time    Time     Time  Current\n",
      "                                 Dload  Upload   Total   Spent    Left  Speed\n",
      "\n",
      "  0     0    0     0    0     0      0      0 --:--:-- --:--:-- --:--:--     0\n",
      "  0     0    0     0    0     0      0      0 --:--:-- --:--:-- --:--:--     0\n",
      "  0 80.2M    0  256k    0     0   240k      0  0:05:41  0:00:01  0:05:40  240k\n",
      "  1 80.2M    1 1616k    0     0   787k      0  0:01:44  0:00:02  0:01:42  787k\n",
      "  4 80.2M    4 4032k    0     0  1321k      0  0:01:02  0:00:03  0:00:59 1321k\n",
      "  8 80.2M    8 7360k    0     0  1816k      0  0:00:45  0:00:04  0:00:41 1816k\n",
      " 14 80.2M   14 11.8M    0     0  2394k      0  0:00:34  0:00:05  0:00:29 2413k\n",
      " 21 80.2M   21 17.1M    0     0  2903k      0  0:00:28  0:00:06  0:00:22 3471k\n",
      " 28 80.2M   28 22.5M    0     0  3271k      0  0:00:25  0:00:07  0:00:18 4291k\n",
      " 35 80.2M   35 28.7M    0     0  3662k      0  0:00:22  0:00:08  0:00:14 5092k\n",
      " 44 80.2M   44 35.6M    0     0  4032k      0  0:00:20  0:00:09  0:00:11 5829k\n",
      " 52 80.2M   52 42.4M    0     0  4316k      0  0:00:19  0:00:10  0:00:09 6272k\n",
      " 61 80.2M   61 49.6M    0     0  4597k      0  0:00:17  0:00:11  0:00:06 6637k\n",
      " 68 80.2M   68 55.3M    0     0  4698k      0  0:00:17  0:00:12  0:00:05 6708k\n",
      " 76 80.2M   76 61.3M    0     0  4818k      0  0:00:17  0:00:13  0:00:04 6679k\n",
      " 82 80.2M   82 66.4M    0     0  4751k      0  0:00:17  0:00:14  0:00:03 5989k\n",
      " 87 80.2M   87 70.1M    0     0  4774k      0  0:00:17  0:00:15  0:00:02 5698k\n",
      " 94 80.2M   94 75.9M    0     0  4847k      0  0:00:16  0:00:16 --:--:-- 5399k\n",
      "100 80.2M  100 80.2M    0     0  4913k      0  0:00:16  0:00:16 --:--:-- 5466k\n"
     ]
    }
   ],
   "source": [
    "!curl -O https://ai.stanford.edu/~amaas/data/sentiment/aclImdb_v1.tar.gz\n",
    "!tar -xf aclImdb_v1.tar.gz"
   ]
  },
  {
   "cell_type": "code",
   "execution_count": 3,
   "metadata": {},
   "outputs": [
    {
     "name": "stdout",
     "output_type": "stream",
     "text": [
      " Volume in drive C has no label.\n",
      " Volume Serial Number is 04EE-8402\n",
      "\n",
      " Directory of c:\\Users\\adewo\\Documents\\Projects\\DL_from_scratch_using_tensorflow\\aclImdb\n",
      "\n",
      "06/25/2011  06:08 PM    <DIR>          .\n",
      "03/15/2024  05:07 PM    <DIR>          ..\n",
      "04/12/2011  10:14 AM           845,980 imdb.vocab\n",
      "06/11/2011  03:54 PM           903,029 imdbEr.txt\n",
      "06/25/2011  05:18 PM             4,037 README\n",
      "04/12/2011  10:22 AM    <DIR>          test\n",
      "06/25/2011  06:09 PM    <DIR>          train\n",
      "               3 File(s)      1,753,046 bytes\n",
      "               4 Dir(s)  132,416,253,952 bytes free\n"
     ]
    }
   ],
   "source": [
    "!dir aclImdb"
   ]
  },
  {
   "cell_type": "code",
   "execution_count": 11,
   "metadata": {},
   "outputs": [
    {
     "name": "stdout",
     "output_type": "stream",
     "text": [
      " Volume in drive C has no label.\n",
      " Volume Serial Number is 04EE-8402\n",
      "\n",
      " Directory of c:\\Users\\adewo\\Documents\\Projects\\DL_from_scratch_using_tensorflow\\aclImdb\\test\n",
      "\n",
      "04/12/2011  10:22 AM    <DIR>          .\n",
      "06/25/2011  06:08 PM    <DIR>          ..\n",
      "04/12/2011  10:25 AM        20,205,283 labeledBow.feat\n",
      "04/12/2011  02:48 AM    <DIR>          neg\n",
      "04/12/2011  02:48 AM    <DIR>          pos\n",
      "04/12/2011  02:48 AM           612,500 urls_neg.txt\n",
      "04/12/2011  02:48 AM           612,500 urls_pos.txt\n",
      "               3 File(s)     21,430,283 bytes\n",
      "               4 Dir(s)  131,534,499,840 bytes free\n"
     ]
    }
   ],
   "source": [
    "## Chec content of the test directory\n",
    "!dir aclImdb\\test"
   ]
  },
  {
   "cell_type": "code",
   "execution_count": 10,
   "metadata": {},
   "outputs": [
    {
     "name": "stdout",
     "output_type": "stream",
     "text": [
      " Volume in drive C has no label.\n",
      " Volume Serial Number is 04EE-8402\n",
      "\n",
      " Directory of c:\\Users\\adewo\\Documents\\Projects\\DL_from_scratch_using_tensorflow\\aclImdb\\train\n",
      "\n",
      "06/25/2011  06:09 PM    <DIR>          .\n",
      "06/25/2011  06:08 PM    <DIR>          ..\n",
      "04/12/2011  10:17 AM        21,021,197 labeledBow.feat\n",
      "04/12/2011  02:47 AM    <DIR>          neg\n",
      "04/12/2011  02:47 AM    <DIR>          pos\n",
      "04/12/2011  02:47 AM    <DIR>          unsup\n",
      "04/12/2011  10:22 AM        41,348,699 unsupBow.feat\n",
      "04/12/2011  02:48 AM           612,500 urls_neg.txt\n",
      "04/12/2011  02:48 AM           612,500 urls_pos.txt\n",
      "04/12/2011  02:47 AM         2,450,000 urls_unsup.txt\n",
      "               5 File(s)     66,044,896 bytes\n",
      "               5 Dir(s)  131,534,598,144 bytes free\n"
     ]
    }
   ],
   "source": [
    "## Chec content of the train directory\n",
    "!dir aclImdb\\train"
   ]
  },
  {
   "cell_type": "markdown",
   "metadata": {},
   "source": [
    "The train and test folders contains pos and negative subfolders for the positive and negative reviews. Lets see an example positive review from the train folder."
   ]
  },
  {
   "cell_type": "code",
   "execution_count": 16,
   "metadata": {},
   "outputs": [
    {
     "name": "stdout",
     "output_type": "stream",
     "text": [
      "Being an Austrian myself this has been a straight knock in my face. Fortunately I don't live nowhere near the place where this movie takes place but unfortunately it portrays everything that the rest of Austria hates about Viennese people (or people close to that region). And it is very easy to read that this is exactly the directors intention: to let your head sink into your hands and say \"Oh my god, how can THAT be possible!\". No, not with me, the (in my opinion) totally exaggerated uncensored swinger club scene is not necessary, I watch porn, sure, but in this context I was rather disgusted than put in the right context.<br /><br />This movie tells a story about how misled people who suffer from lack of education or bad company try to survive and live in a world of redundancy and boring horizons. A girl who is treated like a whore by her super-jealous boyfriend (and still keeps coming back), a female teacher who discovers her masochism by putting the life of her super-cruel \"lover\" on the line, an old couple who has an almost mathematical daily cycle (she is the \"official replacement\" of his ex wife), a couple that has just divorced and has the ex husband suffer under the acts of his former wife obviously having a relationship with her masseuse and finally a crazy hitchhiker who asks her drivers the most unusual questions and stretches their nerves by just being super-annoying.<br /><br />After having seen it you feel almost nothing. You're not even shocked, sad, depressed or feel like doing anything... Maybe that's why I gave it 7 points, it made me react in a way I never reacted before. If that's good or bad is up to you!\n"
     ]
    }
   ],
   "source": [
    "!type aclImdb\\train\\pos\\6248_7.txt"
   ]
  },
  {
   "cell_type": "markdown",
   "metadata": {},
   "source": [
    "Now we can use keras.utils.text_dataset_from_directory to generate a labeled tf.data.dataset object from a set of text files on disk filed into class-specific folders. We will use this to generate the training, validation dataset from the train directory using 80:20 split. We will use the test directory to generate the test dataset. "
   ]
  },
  {
   "cell_type": "code",
   "execution_count": 14,
   "metadata": {},
   "outputs": [
    {
     "name": "stdout",
     "output_type": "stream",
     "text": [
      "Found 75000 files belonging to 3 classes.\n",
      "Using 60000 files for training.\n",
      "Found 75000 files belonging to 3 classes.\n",
      "Using 15000 files for validation.\n",
      "Found 25000 files belonging to 2 classes.\n",
      "Number of batches in train dataset: 1875\n",
      "Number of batches in validation dataset: 469\n",
      "Number of batches in test dataset: 782\n"
     ]
    }
   ],
   "source": [
    "import keras\n",
    "\n",
    "batch_size = 32\n",
    "raw_train_ds = keras.utils.text_dataset_from_directory(\n",
    "    \"aclImdb/train\",\n",
    "    batch_size=batch_size,\n",
    "    validation_split=0.2,\n",
    "    subset=\"training\",\n",
    "    seed=1000\n",
    ")\n",
    "\n",
    "raw_val_ds = keras.utils.text_dataset_from_directory(\n",
    "    \"aclImdb/train\",\n",
    "    batch_size=batch_size,\n",
    "    validation_split=0.2,\n",
    "    subset=\"validation\",\n",
    "    seed=1000,\n",
    ")\n",
    "\n",
    "raw_test_ds = keras.utils.text_dataset_from_directory(\n",
    "    \"aclImdb/test\",\n",
    "    batch_size=batch_size\n",
    ")\n",
    "\n",
    "print(f\"Number of batches in train dataset: {raw_train_ds.cardinality()}\")\n",
    "print(f\"Number of batches in validation dataset: {raw_val_ds.cardinality()}\")\n",
    "print(f\"Number of batches in test dataset: {raw_test_ds.cardinality()}\")"
   ]
  },
  {
   "cell_type": "markdown",
   "metadata": {},
   "source": [
    "Let's preview few samples of the data to ensure normalization and tokenization will work as expected. We use eager execution by evaluating the tensors using numpy()."
   ]
  },
  {
   "cell_type": "code",
   "execution_count": 15,
   "metadata": {},
   "outputs": [
    {
     "name": "stdout",
     "output_type": "stream",
     "text": [
      "Text: b'OK everyone else has given a good synopsis of this movie and you should realise you\\'re not getting Citizen Kane here but a solid piece of propaganda produced on the cheap and quickly when such things mattered in Britain, ie a horde of Nazi stormtroopers were waiting to invade thirty miles across the Channel and the British people better be ready to deal with it when the time comes. The fact that we now know that the real threat of invasion had already passed by that stage no one knew for sure at the time that such was the case.<br /><br />The acting is at times stiff and the dialogue can be a bit facile at times but when the acting and dialogue are good they are excellent. Look at the postmistress in the moments before she gives the German sergeant his comeuppance, watch her facial expression and wonder whether the Nazi was getting what she\\'d have liked to have given her late husband, all very edgy for 1942. The women and children do get the bravest roles and even if, like the lady of the manor or the daffy post office assistant, they are a bit hopeless at first they rally magnificently.<br /><br />There are some very significant and subtle moments; the first active resister is the Christian minister, the British serviceman rallies the village defence is a sailor, the dreadful night ends and daylight breaks through just at the point when the villagers learn the outside world is on the way to help, the villagers are prepared to wreck their own beautiful and historic mansion house without a moment\\'s hesitation in the fight to beat the Germans. <br /><br />There are other enjoyably subtle moments too, \"Oh Duck Madame!\" when the shooting starts, \"Not again\" when the sailor shouts the same and surely I can\\'t be the only one to pick up on the servant Bridget? The only named character without dialogue and who is told what to do by her fine bossy aristocratic English mistress but who seems as if she would rather have nothing to do with the whole affair.<br /><br />Would I be wrong in guessing Bridget is from Ireland?'\n",
      "Label: 2\n",
      "Text: b'Common wisdom has it that Claude Chabrol\\'s been trading water since the superb La Ceremonie, and decidedly minor efforts like La Fleur du Mal, Rien ne va Plus and Merci Pour le Chocolat certainly do little to change that view, but the surprisingly excellent Au Coeur du Mensonge aka The Heart of the Lie/The Color of Lies is easily one of his very best.<br /><br />As usual he\\'s not interested in the thriller mechanics of the film\\'s murder mystery, preferring to focus on the effects on the marriage of the small-town art teacher who becomes the favourite suspect for locals and police alike. At once a subtle play on the nature of lies, floating the notion that when everybody\\'s lying there are no more lies, and another of his portraits of small town petit bourgeois suspicion (\"You never really know who you live with.\"), it benefits from superb performances from a surprisingly likable Sandrine Bonnaire and a convincingly tortured Jacques Gamblin as the couple in the eye of the quiet storm, as well as good supporting turns from Antoine de Caunes as a smug overachieving author and local celebrity and Bernard Verley as an easygoing but quietly perceptive local cop that are more than good enough to make you overlook a horribly flat performance by Valeria Bruni Tedeschi as the detective in charge of the case. She\\'s one of the only two real bum notes in the film. The other? Well, just for once couldn\\'t Chabrol hire someone other than his son to write the score? Matthieu Chabrol turns out another of his identikit numbers - start off classical piano, add a bit of dissonance, then a bit of pseudo-comic artful jauntiness before collapsing back into classical piano mode - that adds nothing but tedious familiarity to the proceedings. But this is still more than good enough to overcome those obstacles.<br /><br />Kino\\'s Region 1 DVD is an acceptable standards conversion from Pal that could be better, but it does at least feature the trailer, a subtitled introduction and 25-minute making of.'\n",
      "Label: 2\n"
     ]
    }
   ],
   "source": [
    "for text_batch, label_batch in raw_train_ds.take(1):\n",
    "    for i in range(2):\n",
    "        print(f\"Text: {text_batch.numpy()[i]}\")\n",
    "        print(f\"Label: {label_batch.numpy()[i]}\")"
   ]
  },
  {
   "cell_type": "markdown",
   "metadata": {},
   "source": [
    "Lets Prepare the data"
   ]
  },
  {
   "cell_type": "code",
   "execution_count": 11,
   "metadata": {},
   "outputs": [],
   "source": [
    "import string\n",
    "import re\n",
    "import tensorflow as tf\n",
    "from tensorflow.keras import layers\n",
    "\n",
    "# We create a custom standardization to handle the HTML break tags '<br />' since this cannot be removed by derault standardizer.\n",
    "def custom_standardization(input_data):\n",
    "    \"\"\"\n",
    "    - change to lower case\n",
    "    - strip all html tags\n",
    "    - remove punctuations\n",
    "    \"\"\"\n",
    "    lower_case = tf.strings.lower(input_data)\n",
    "    stripped_html = tf.strings.regex_replace(lower_case, \"<br />\", \" \")\n",
    "    return tf.strings.regex_replace(\n",
    "        stripped_html, f\"[{re.escape(string.punctuation)}]\", \"\"\n",
    "    )\n",
    "\n",
    "# Define model constants\n",
    "max_features = 20000 \n",
    "sequence_length = 500 # we set an explicit maximum sequence length, since the CNNs model won't support variable sequence\n",
    "\n",
    "# Create text vectorization layer to normalize, split, and map strings to integers.\n",
    "# For this, we set out 'ouput_mode' to int'\n",
    "vectorizer_layer = keras.layers.TextVectorization(\n",
    "    standardize=custom_standardization,\n",
    "    max_tokens=max_features,\n",
    "    output_mode=\"int\",\n",
    "    output_sequence_length=sequence_length,\n",
    ")\n",
    "\n",
    "# First we extract the text-only dataset and call 'adapt' to create the vocabulary.\n",
    "text_ds = raw_train_ds.map(lambda x, y: x)\n",
    "# Call 'adapt' on text-only dataset\n",
    "vectorizer_layer.adapt(text_ds)"
   ]
  },
  {
   "cell_type": "code",
   "execution_count": 6,
   "metadata": {},
   "outputs": [],
   "source": [
    "from keras import layers\n",
    "\n",
    "# Make the vectorization layer a part of the model\n",
    "text_input = keras.Input(shape=(1,), dtype=tf.string, name='text')\n",
    "x = vectorizer_layer(text_input)\n",
    "x = layers.Embedding(max_features+1, embedding_dim)(x)"
   ]
  },
  {
   "cell_type": "code",
   "execution_count": 12,
   "metadata": {},
   "outputs": [
    {
     "name": "stdout",
     "output_type": "stream",
     "text": [
      "Review tf.Tensor(b\"I doubt much of this film is based on a true story. At the beginning it says based on a true story, sort of. I bet the only truth to it was there was an ex-model turned bounty hunter possibly named Domino.<br /><br />Anyways, it begins with Domino talking to Lucy Liu, who works for the FBI. Domino is being interrogated about what she knows about a theft of 10 million dollars. Through flashbacks, we see Domino as a child, then as a model, and how she became interested in being a bounty hunter. She basically tells 2 other bounty hunters off, Ed and Choco. They let her join the group. She's tough, can use any kind of weapon, and will use her good looks if needed.<br /><br />They get involved with a scam that Clarmont, a bailsman, has going. Along the way, the group starts a reality TV show, and that's where Ian Zering and Brian Austin Green become involved. They are sort of like hosts and must have been really desperate to appear in this.<br /><br />I thought the story was entertaining and it had some laughs. The editing didn't bother me. There's also a lot of violence, mainly using guns, and blood. It could have been a little shorter.<br /><br />FINAL VERDICT: Good enough to watch.\", shape=(), dtype=string)\n",
      "Label pos\n",
      "Vectorized review (<tf.Tensor: shape=(1, 500), dtype=int64, numpy=\n",
      "array([[   11,   778,    71,     5,    10,    19,     7,   436,    20,\n",
      "            4,   292,    64,    30,     2,   444,     9,   538,   436,\n",
      "           20,     4,   292,    64,   432,     5,    11,  2246,     2,\n",
      "           62,   788,     6,     9,    13,    47,    13,    33,     1,\n",
      "          658,  5755,  2133,   832,   748,  9737,  3901,     9,   719,\n",
      "           15,  9737,   679,     6,  2669,  7444,    36,   507,    16,\n",
      "            2,  2600,  9737,     7,   105,     1,    42,    48,    56,\n",
      "          684,    42,     4,  8041,     5,   301,  1502,  2262,   140,\n",
      "         1989,    72,    65,  9737,    14,     4,   531,    94,    14,\n",
      "            4,  2263,     3,    88,    56,   862,   884,     8,   105,\n",
      "            4,  5755,  2133,    56,   648,   695,   269,    83,  5755,\n",
      "         4930,   123,  1763,     3,     1,    34,   379,    39,  2631,\n",
      "            2,   519,   442,  1174,    67,   348,   101,   240,     5,\n",
      "         3037,     3,    81,   348,    39,    49,   271,    44,   899,\n",
      "           34,    75,   562,    15,     4, 10030,    12,     1,     4,\n",
      "            1,    43,   161,   340,     2,    95,     2,   519,   488,\n",
      "            4,   642,   251,   121,     3,   176,   112,  3694,     1,\n",
      "            3,  1819,  4695,  1439,   404,   562,    34,    23,   432,\n",
      "            5,    38,  9894,     3,   214,    25,    74,    63,  1663,\n",
      "            6,   901,     8,    10,    11,   195,     2,    64,    13,\n",
      "          398,     3,     9,    68,    46,   912,     2,   818,   153,\n",
      "         1312,    69,   205,    79,     4,   166,     5,   540,  1363,\n",
      "          767,  1717,     3,   551,     9,    97,    25,    74,     4,\n",
      "          108,  5572,   451,  6497,    49,   189,     6,   103,     0,\n",
      "            0,     0,     0,     0,     0,     0,     0,     0,     0,\n",
      "            0,     0,     0,     0,     0,     0,     0,     0,     0,\n",
      "            0,     0,     0,     0,     0,     0,     0,     0,     0,\n",
      "            0,     0,     0,     0,     0,     0,     0,     0,     0,\n",
      "            0,     0,     0,     0,     0,     0,     0,     0,     0,\n",
      "            0,     0,     0,     0,     0,     0,     0,     0,     0,\n",
      "            0,     0,     0,     0,     0,     0,     0,     0,     0,\n",
      "            0,     0,     0,     0,     0,     0,     0,     0,     0,\n",
      "            0,     0,     0,     0,     0,     0,     0,     0,     0,\n",
      "            0,     0,     0,     0,     0,     0,     0,     0,     0,\n",
      "            0,     0,     0,     0,     0,     0,     0,     0,     0,\n",
      "            0,     0,     0,     0,     0,     0,     0,     0,     0,\n",
      "            0,     0,     0,     0,     0,     0,     0,     0,     0,\n",
      "            0,     0,     0,     0,     0,     0,     0,     0,     0,\n",
      "            0,     0,     0,     0,     0,     0,     0,     0,     0,\n",
      "            0,     0,     0,     0,     0,     0,     0,     0,     0,\n",
      "            0,     0,     0,     0,     0,     0,     0,     0,     0,\n",
      "            0,     0,     0,     0,     0,     0,     0,     0,     0,\n",
      "            0,     0,     0,     0,     0,     0,     0,     0,     0,\n",
      "            0,     0,     0,     0,     0,     0,     0,     0,     0,\n",
      "            0,     0,     0,     0,     0,     0,     0,     0,     0,\n",
      "            0,     0,     0,     0,     0,     0,     0,     0,     0,\n",
      "            0,     0,     0,     0,     0,     0,     0,     0,     0,\n",
      "            0,     0,     0,     0,     0,     0,     0,     0,     0,\n",
      "            0,     0,     0,     0,     0,     0,     0,     0,     0,\n",
      "            0,     0,     0,     0,     0,     0,     0,     0,     0,\n",
      "            0,     0,     0,     0,     0,     0,     0,     0,     0,\n",
      "            0,     0,     0,     0,     0,     0,     0,     0,     0,\n",
      "            0,     0,     0,     0,     0,     0,     0,     0,     0,\n",
      "            0,     0,     0,     0,     0,     0,     0,     0,     0,\n",
      "            0,     0,     0,     0,     0,     0,     0,     0,     0,\n",
      "            0,     0,     0,     0,     0]], dtype=int64)>, <tf.Tensor: shape=(), dtype=int32, numpy=1>)\n"
     ]
    }
   ],
   "source": [
    "# Apply the vectorization layer to the raw dataset\n",
    "def vectorize_text(text, label):\n",
    "    text = tf.expand_dims(text, -1)\n",
    "    return vectorizer_layer(text), label\n",
    "\n",
    "# retrieve a batch of 32 reviews and labels as dataset\n",
    "text_batch, label_batch = next(iter(raw_train_ds))\n",
    "first_review, first_label = text_batch[0], label_batch[0]\n",
    "print(\"Review\", first_review)\n",
    "print(\"Label\", raw_train_ds.class_names[first_label])\n",
    "print(\"Vectorized review\", vectorize_text(first_review, first_label))"
   ]
  },
  {
   "cell_type": "markdown",
   "metadata": {},
   "source": [
    "We can look up the token (string) that each integer corresponds to by calling .get_vocabulary() on the layer"
   ]
  },
  {
   "cell_type": "code",
   "execution_count": 13,
   "metadata": {},
   "outputs": [
    {
     "name": "stdout",
     "output_type": "stream",
     "text": [
      "1627 --->  blame\n",
      "313 --->  idea\n",
      "Vocabulary ---> 20000\n"
     ]
    }
   ],
   "source": [
    "print(\"1627 ---> \", vectorizer_layer.get_vocabulary()[1627])\n",
    "print(\"313 ---> \", vectorizer_layer.get_vocabulary()[313])\n",
    "print(\"Vocabulary ---> {}\".format(len(vectorizer_layer.get_vocabulary())))"
   ]
  },
  {
   "cell_type": "code",
   "execution_count": 16,
   "metadata": {},
   "outputs": [],
   "source": [
    "# Apply to dataset\n",
    "train_ds = raw_train_ds.map(vectorize_text)\n",
    "val_ds = raw_val_ds.map(vectorize_text)\n",
    "test_ds = raw_test_ds.map(vectorize_text)\n",
    "\n",
    "# Do async prefetching / buffering of the data for best GPU performance\n",
    "\"\"\"\n",
    ".cache() keeps data in memory after it's loaded off disk. \n",
    "This will ensure the dataset does not become a bottleneck while training your model. \n",
    "If your dataset is too large to fit into memory, you can also use this method to create a performant on-disk cache, \n",
    "which is more efficient to read than many small files.\n",
    "\n",
    ".prefetch() overlaps data preprocessing and model execution while training.\n",
    "\"\"\"\n",
    "train_ds = train_ds.cache().prefetch(buffer_size=10)\n",
    "val_ds = val_ds.cache().prefetch(buffer_size=10)\n",
    "test_ds = test_ds.cache().prefetch(buffer_size=10)"
   ]
  },
  {
   "cell_type": "markdown",
   "metadata": {},
   "source": [
    "#### Build and Train model"
   ]
  },
  {
   "cell_type": "code",
   "execution_count": 17,
   "metadata": {},
   "outputs": [
    {
     "data": {
      "text/html": [
       "<pre style=\"white-space:pre;overflow-x:auto;line-height:normal;font-family:Menlo,'DejaVu Sans Mono',consolas,'Courier New',monospace\"><span style=\"font-weight: bold\">Model: \"sequential\"</span>\n",
       "</pre>\n"
      ],
      "text/plain": [
       "\u001b[1mModel: \"sequential\"\u001b[0m\n"
      ]
     },
     "metadata": {},
     "output_type": "display_data"
    },
    {
     "data": {
      "text/html": [
       "<pre style=\"white-space:pre;overflow-x:auto;line-height:normal;font-family:Menlo,'DejaVu Sans Mono',consolas,'Courier New',monospace\">┏━━━━━━━━━━━━━━━━━━━━━━━━━━━━━━━━━┳━━━━━━━━━━━━━━━━━━━━━━━━┳━━━━━━━━━━━━━━━┓\n",
       "┃<span style=\"font-weight: bold\"> Layer (type)                    </span>┃<span style=\"font-weight: bold\"> Output Shape           </span>┃<span style=\"font-weight: bold\">       Param # </span>┃\n",
       "┡━━━━━━━━━━━━━━━━━━━━━━━━━━━━━━━━━╇━━━━━━━━━━━━━━━━━━━━━━━━╇━━━━━━━━━━━━━━━┩\n",
       "│ embedding_1 (<span style=\"color: #0087ff; text-decoration-color: #0087ff\">Embedding</span>)         │ ?                      │   <span style=\"color: #00af00; text-decoration-color: #00af00\">0</span> (unbuilt) │\n",
       "├─────────────────────────────────┼────────────────────────┼───────────────┤\n",
       "│ dropout_2 (<span style=\"color: #0087ff; text-decoration-color: #0087ff\">Dropout</span>)             │ ?                      │             <span style=\"color: #00af00; text-decoration-color: #00af00\">0</span> │\n",
       "├─────────────────────────────────┼────────────────────────┼───────────────┤\n",
       "│ global_average_pooling1d        │ ?                      │   <span style=\"color: #00af00; text-decoration-color: #00af00\">0</span> (unbuilt) │\n",
       "│ (<span style=\"color: #0087ff; text-decoration-color: #0087ff\">GlobalAveragePooling1D</span>)        │                        │               │\n",
       "├─────────────────────────────────┼────────────────────────┼───────────────┤\n",
       "│ dropout_3 (<span style=\"color: #0087ff; text-decoration-color: #0087ff\">Dropout</span>)             │ ?                      │             <span style=\"color: #00af00; text-decoration-color: #00af00\">0</span> │\n",
       "├─────────────────────────────────┼────────────────────────┼───────────────┤\n",
       "│ dense_1 (<span style=\"color: #0087ff; text-decoration-color: #0087ff\">Dense</span>)                 │ ?                      │   <span style=\"color: #00af00; text-decoration-color: #00af00\">0</span> (unbuilt) │\n",
       "└─────────────────────────────────┴────────────────────────┴───────────────┘\n",
       "</pre>\n"
      ],
      "text/plain": [
       "┏━━━━━━━━━━━━━━━━━━━━━━━━━━━━━━━━━┳━━━━━━━━━━━━━━━━━━━━━━━━┳━━━━━━━━━━━━━━━┓\n",
       "┃\u001b[1m \u001b[0m\u001b[1mLayer (type)                   \u001b[0m\u001b[1m \u001b[0m┃\u001b[1m \u001b[0m\u001b[1mOutput Shape          \u001b[0m\u001b[1m \u001b[0m┃\u001b[1m \u001b[0m\u001b[1m      Param #\u001b[0m\u001b[1m \u001b[0m┃\n",
       "┡━━━━━━━━━━━━━━━━━━━━━━━━━━━━━━━━━╇━━━━━━━━━━━━━━━━━━━━━━━━╇━━━━━━━━━━━━━━━┩\n",
       "│ embedding_1 (\u001b[38;5;33mEmbedding\u001b[0m)         │ ?                      │   \u001b[38;5;34m0\u001b[0m (unbuilt) │\n",
       "├─────────────────────────────────┼────────────────────────┼───────────────┤\n",
       "│ dropout_2 (\u001b[38;5;33mDropout\u001b[0m)             │ ?                      │             \u001b[38;5;34m0\u001b[0m │\n",
       "├─────────────────────────────────┼────────────────────────┼───────────────┤\n",
       "│ global_average_pooling1d        │ ?                      │   \u001b[38;5;34m0\u001b[0m (unbuilt) │\n",
       "│ (\u001b[38;5;33mGlobalAveragePooling1D\u001b[0m)        │                        │               │\n",
       "├─────────────────────────────────┼────────────────────────┼───────────────┤\n",
       "│ dropout_3 (\u001b[38;5;33mDropout\u001b[0m)             │ ?                      │             \u001b[38;5;34m0\u001b[0m │\n",
       "├─────────────────────────────────┼────────────────────────┼───────────────┤\n",
       "│ dense_1 (\u001b[38;5;33mDense\u001b[0m)                 │ ?                      │   \u001b[38;5;34m0\u001b[0m (unbuilt) │\n",
       "└─────────────────────────────────┴────────────────────────┴───────────────┘\n"
      ]
     },
     "metadata": {},
     "output_type": "display_data"
    },
    {
     "data": {
      "text/html": [
       "<pre style=\"white-space:pre;overflow-x:auto;line-height:normal;font-family:Menlo,'DejaVu Sans Mono',consolas,'Courier New',monospace\"><span style=\"font-weight: bold\"> Total params: </span><span style=\"color: #00af00; text-decoration-color: #00af00\">0</span> (0.00 B)\n",
       "</pre>\n"
      ],
      "text/plain": [
       "\u001b[1m Total params: \u001b[0m\u001b[38;5;34m0\u001b[0m (0.00 B)\n"
      ]
     },
     "metadata": {},
     "output_type": "display_data"
    },
    {
     "data": {
      "text/html": [
       "<pre style=\"white-space:pre;overflow-x:auto;line-height:normal;font-family:Menlo,'DejaVu Sans Mono',consolas,'Courier New',monospace\"><span style=\"font-weight: bold\"> Trainable params: </span><span style=\"color: #00af00; text-decoration-color: #00af00\">0</span> (0.00 B)\n",
       "</pre>\n"
      ],
      "text/plain": [
       "\u001b[1m Trainable params: \u001b[0m\u001b[38;5;34m0\u001b[0m (0.00 B)\n"
      ]
     },
     "metadata": {},
     "output_type": "display_data"
    },
    {
     "data": {
      "text/html": [
       "<pre style=\"white-space:pre;overflow-x:auto;line-height:normal;font-family:Menlo,'DejaVu Sans Mono',consolas,'Courier New',monospace\"><span style=\"font-weight: bold\"> Non-trainable params: </span><span style=\"color: #00af00; text-decoration-color: #00af00\">0</span> (0.00 B)\n",
       "</pre>\n"
      ],
      "text/plain": [
       "\u001b[1m Non-trainable params: \u001b[0m\u001b[38;5;34m0\u001b[0m (0.00 B)\n"
      ]
     },
     "metadata": {},
     "output_type": "display_data"
    },
    {
     "name": "stdout",
     "output_type": "stream",
     "text": [
      "Epoch 1/10\n",
      "\u001b[1m1875/1875\u001b[0m \u001b[32m━━━━━━━━━━━━━━━━━━━━\u001b[0m\u001b[37m\u001b[0m \u001b[1m32s\u001b[0m 16ms/step - binary_accuracy: 0.1686 - loss: -192.3113 - val_binary_accuracy: 0.1705 - val_loss: -1558.1847\n",
      "Epoch 2/10\n",
      "\u001b[1m1875/1875\u001b[0m \u001b[32m━━━━━━━━━━━━━━━━━━━━\u001b[0m\u001b[37m\u001b[0m \u001b[1m7s\u001b[0m 4ms/step - binary_accuracy: 0.1680 - loss: -2369.1316 - val_binary_accuracy: 0.1705 - val_loss: -5338.7432\n",
      "Epoch 3/10\n",
      "\u001b[1m1875/1875\u001b[0m \u001b[32m━━━━━━━━━━━━━━━━━━━━\u001b[0m\u001b[37m\u001b[0m \u001b[1m7s\u001b[0m 4ms/step - binary_accuracy: 0.1680 - loss: -6557.4326 - val_binary_accuracy: 0.1705 - val_loss: -10764.2061\n",
      "Epoch 4/10\n",
      "\u001b[1m1875/1875\u001b[0m \u001b[32m━━━━━━━━━━━━━━━━━━━━\u001b[0m\u001b[37m\u001b[0m \u001b[1m7s\u001b[0m 4ms/step - binary_accuracy: 0.1680 - loss: -12337.2500 - val_binary_accuracy: 0.1705 - val_loss: -17682.9453\n",
      "Epoch 5/10\n",
      "\u001b[1m1875/1875\u001b[0m \u001b[32m━━━━━━━━━━━━━━━━━━━━\u001b[0m\u001b[37m\u001b[0m \u001b[1m7s\u001b[0m 4ms/step - binary_accuracy: 0.1680 - loss: -19569.7305 - val_binary_accuracy: 0.1705 - val_loss: -26038.9297\n",
      "Epoch 6/10\n",
      "\u001b[1m1875/1875\u001b[0m \u001b[32m━━━━━━━━━━━━━━━━━━━━\u001b[0m\u001b[37m\u001b[0m \u001b[1m7s\u001b[0m 4ms/step - binary_accuracy: 0.1680 - loss: -28263.0156 - val_binary_accuracy: 0.1705 - val_loss: -35819.9453\n",
      "Epoch 7/10\n",
      "\u001b[1m1875/1875\u001b[0m \u001b[32m━━━━━━━━━━━━━━━━━━━━\u001b[0m\u001b[37m\u001b[0m \u001b[1m7s\u001b[0m 4ms/step - binary_accuracy: 0.1680 - loss: -38420.8555 - val_binary_accuracy: 0.1705 - val_loss: -47023.4883\n",
      "Epoch 8/10\n",
      "\u001b[1m1875/1875\u001b[0m \u001b[32m━━━━━━━━━━━━━━━━━━━━\u001b[0m\u001b[37m\u001b[0m \u001b[1m8s\u001b[0m 4ms/step - binary_accuracy: 0.1680 - loss: -49900.1797 - val_binary_accuracy: 0.1705 - val_loss: -59583.8047\n",
      "Epoch 9/10\n",
      "\u001b[1m1875/1875\u001b[0m \u001b[32m━━━━━━━━━━━━━━━━━━━━\u001b[0m\u001b[37m\u001b[0m \u001b[1m7s\u001b[0m 4ms/step - binary_accuracy: 0.1680 - loss: -62679.2891 - val_binary_accuracy: 0.1705 - val_loss: -73540.9688\n",
      "Epoch 10/10\n",
      "\u001b[1m1875/1875\u001b[0m \u001b[32m━━━━━━━━━━━━━━━━━━━━\u001b[0m\u001b[37m\u001b[0m \u001b[1m7s\u001b[0m 4ms/step - binary_accuracy: 0.1680 - loss: -76825.6484 - val_binary_accuracy: 0.1705 - val_loss: -88859.6406\n",
      "\u001b[1m782/782\u001b[0m \u001b[32m━━━━━━━━━━━━━━━━━━━━\u001b[0m\u001b[37m\u001b[0m \u001b[1m5s\u001b[0m 6ms/step - binary_accuracy: 0.4990 - loss: 90303.8359\n",
      "Loss:  89963.96875\n",
      "Accuracy:  0.5\n"
     ]
    }
   ],
   "source": [
    "from tensorflow.keras import losses, layers\n",
    "\n",
    "embedding_dim = 16\n",
    "model_2 = tf.keras.Sequential([\n",
    "    layers.Embedding(max_features, embedding_dim), # Embedding layer takes the integer-encoded reviews and looks up an embedding vector for each word-index. These vectors are learned as the model trains. The vectors add a dimension to the output array. The resulting dimensions are: (batch, sequence, embedding)\n",
    "    layers.Dropout(0.2),\n",
    "    layers.GlobalAveragePooling1D(), # GlobalAveragePooling1D layer returns a fixed-length output vector for each example by averaging over the sequence dimension. This allows the model to handle input of variable length, in the simplest way possible.\n",
    "    layers.Dropout(0.2),\n",
    "    layers.Dense(1, activation='sigmoid')\n",
    "])\n",
    "\n",
    "model_2.summary()\n",
    "\n",
    "model_2.compile(loss=losses.BinaryCrossentropy(),\n",
    "                optimizer='adam',\n",
    "                metrics=[tf.metrics.BinaryAccuracy(threshold=0.5)])\n",
    "\n",
    "epochs = 10\n",
    "history = model_2.fit(train_ds,\n",
    "                      validation_data=val_ds,\n",
    "                      epochs=epochs)\n",
    "\n",
    "# Evaluate the model\n",
    "loss, accuracy = model_2.evaluate(test_ds)\n",
    "print(\"Loss: \", loss)\n",
    "print(\"Accuracy: \", accuracy)"
   ]
  },
  {
   "cell_type": "code",
   "execution_count": 18,
   "metadata": {},
   "outputs": [
    {
     "data": {
      "image/png": "[encoded data removed]",
      "text/plain": [
       "<Figure size 640x480 with 1 Axes>"
      ]
     },
     "metadata": {},
     "output_type": "display_data"
    }
   ],
   "source": [
    "# To visualize the training history\n",
    "history_dict = history.history\n",
    "acc = history_dict[\"binary_accuracy\"]\n",
    "val_acc = history_dict[\"val_binary_accuracy\"]\n",
    "loss = history_dict[\"loss\"]\n",
    "val_loss = history_dict[\"val_loss\"]\n",
    "\n",
    "epochs = range(1, len(acc)+1)\n",
    "\n",
    "import matplotlib.pyplot as plt\n",
    "\n",
    "# \"bo\" is for \"blue dot\"\n",
    "plt.plot(epochs, loss, 'bo', label='Training loss')\n",
    "# b is for \"solid blue line\"\n",
    "plt.plot(epochs, val_loss, 'b', label='Validation loss')\n",
    "plt.title('Training and validation loss')\n",
    "plt.xlabel('Epochs')\n",
    "plt.ylabel('Loss')\n",
    "plt.legend()\n",
    "\n",
    "plt.show()"
   ]
  },
  {
   "cell_type": "code",
   "execution_count": 19,
   "metadata": {},
   "outputs": [
    {
     "data": {
      "image/png": "[encoded data removed]",
      "text/plain": [
       "<Figure size 640x480 with 1 Axes>"
      ]
     },
     "metadata": {},
     "output_type": "display_data"
    }
   ],
   "source": [
    "plt.plot(epochs, acc, 'bo', label='Training acc')\n",
    "plt.plot(epochs, val_acc, 'b', label='Validation acc')\n",
    "plt.title('Training and validation accuracy')\n",
    "plt.xlabel('Epochs')\n",
    "plt.ylabel('Accuracy')\n",
    "plt.legend(loc='lower right')\n",
    "\n",
    "plt.show()"
   ]
  },
  {
   "cell_type": "markdown",
   "metadata": {},
   "source": [
    "#### Make an end-to-end model to export for inference on raw strings"
   ]
  },
  {
   "cell_type": "code",
   "execution_count": 21,
   "metadata": {},
   "outputs": [
    {
     "name": "stdout",
     "output_type": "stream",
     "text": [
      "\u001b[1m782/782\u001b[0m \u001b[32m━━━━━━━━━━━━━━━━━━━━\u001b[0m\u001b[37m\u001b[0m \u001b[1m6s\u001b[0m 7ms/step - accuracy: 0.4985 - loss: 0.8148\n",
      "0.5\n"
     ]
    }
   ],
   "source": [
    "export_model = tf.keras.Sequential([\n",
    "    vectorizer_layer,\n",
    "    model_2,\n",
    "    layers.Activation(\"sigmoid\")\n",
    "])\n",
    "\n",
    "export_model.compile(loss=losses.BinaryCrossentropy(from_logits=False),\n",
    "                     optimizer=\"adam\",\n",
    "                     metrics=[\"accuracy\"])\n",
    "\n",
    "loss, accuracy = export_model.evaluate(raw_test_ds)\n",
    "print(accuracy)"
   ]
  },
  {
   "cell_type": "markdown",
   "metadata": {},
   "source": [
    "#### Inference on new examples"
   ]
  },
  {
   "cell_type": "code",
   "execution_count": 22,
   "metadata": {},
   "outputs": [
    {
     "name": "stdout",
     "output_type": "stream",
     "text": [
      "\u001b[1m1/1\u001b[0m \u001b[32m━━━━━━━━━━━━━━━━━━━━\u001b[0m\u001b[37m\u001b[0m \u001b[1m0s\u001b[0m 145ms/step\n"
     ]
    },
    {
     "data": {
      "text/plain": [
       "array([[0.7310586],\n",
       "       [0.7310586],\n",
       "       [0.7310586]], dtype=float32)"
      ]
     },
     "execution_count": 22,
     "metadata": {},
     "output_type": "execute_result"
    }
   ],
   "source": [
    "examples = tf.constant([\n",
    "    \"The movie was great\",\n",
    "    \"The movie was okay.\",\n",
    "    \"The movie was awful.\"\n",
    "])\n",
    "\n",
    "export_model.predict(examples)"
   ]
  }
 ],
 "metadata": {
  "kernelspec": {
   "display_name": "py310",
   "language": "python",
   "name": "python3"
  },
  "language_info": {
   "codemirror_mode": {
    "name": "ipython",
    "version": 3
   },
   "file_extension": ".py",
   "mimetype": "text/x-python",
   "name": "python",
   "nbconvert_exporter": "python",
   "pygments_lexer": "ipython3",
   "version": "3.10.13"
  }
 },
 "nbformat": 4,
 "nbformat_minor": 2
}
